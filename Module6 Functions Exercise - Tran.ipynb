{
 "cells": [
  {
   "cell_type": "markdown",
   "metadata": {},
   "source": [
    "1. Round 4.5667 to the nearest hundreth using a build-in function, round()."
   ]
  },
  {
   "cell_type": "code",
   "execution_count": null,
   "metadata": {},
   "outputs": [],
   "source": [
    "round(4.5667,2)"
   ]
  },
  {
   "cell_type": "markdown",
   "metadata": {},
   "source": [
    "2. Convert \"657\" to an integer data type"
   ]
  },
  {
   "cell_type": "code",
   "execution_count": null,
   "metadata": {},
   "outputs": [],
   "source": [
    "int(657)"
   ]
  },
  {
   "cell_type": "markdown",
   "metadata": {},
   "source": [
    "3.\n",
    "Write a program to get two numbers from a user. Then, create a secret code where a code consists of 6 numbers and each number is randomly generated number between two numbers from a user. "
   ]
  },
  {
   "cell_type": "code",
   "execution_count": 2,
   "metadata": {},
   "outputs": [
    {
     "name": "stdout",
     "output_type": "stream",
     "text": [
      "Enter the first digit: 10\n",
      "Enter the second digit: 0\n",
      "Six-digit random code between 10 and 0 : 329956\n"
     ]
    }
   ],
   "source": [
    "import random\n",
    "\n",
    "def generate_random_code(num1, num2):\n",
    "    if num1 > num2:\n",
    "        num1, num2 = num2, num1\n",
    "    random_code = 0\n",
    "    for _ in range(6):\n",
    "        random_code = random_code * 10 + random.randint(num1, num2)\n",
    "    return random_code\n",
    "\n",
    "num1 = int(input(\"Between numbers 0 and 9, Enter the first digit: \"))\n",
    "num2 = int(input(\"Between numbers 0 and 9, Enter the second digit: \"))\n",
    "    \n",
    "random_code = generate_random_code(num1, num2)\n",
    "print(\"Six-digit random code between\", num1, \"and\", num2, \":\", random_code)\n",
    "\n",
    "\n"
   ]
  },
  {
   "cell_type": "markdown",
   "metadata": {},
   "source": [
    "4.\n",
    "Write a program to center align below text where number of characters per line is 40.\n",
    "\n",
    "Output should look something like this:\n",
    "\n",
    "        Hickory, dickory, dock,        \n",
    "      The mouse ran up the clock.      \n",
    "         The clock struck one,         \n",
    "          The mouse ran down,          \n",
    "         Hickory, dickory, dock \n",
    "\n",
    "<b>Do not use string's center method! </b>"
   ]
  },
  {
   "cell_type": "code",
   "execution_count": null,
   "metadata": {},
   "outputs": [],
   "source": [
    "line1 = \"Hickory, dickory, dock,\"\n",
    "line2 = \"The mouse ran up the clock.\"\n",
    "line3 = \"The clock struck one,\"\n",
    "line4 = \"The mouse ran down,\"\n",
    "line5 = \"Hickory, dickory, dock\"\n",
    "\n"
   ]
  },
  {
   "cell_type": "code",
   "execution_count": null,
   "metadata": {},
   "outputs": [],
   "source": [
    "line1 = \"Hickory, dickory, dock,\"\n",
    "line2 = \"The mouse ran up the clock.\"\n",
    "line3 = \"The clock struck one,\"\n",
    "line4 = \"The mouse ran down,\"\n",
    "line5 = \"Hickory, dickory, dock\"\n",
    "\n",
    "lines = [line1, line2, line3, line4, line5]\n",
    "max_width = 40\n",
    "\n",
    "for line in lines:\n",
    "    spaces = max_width - len(line)\n",
    "    left_spaces = spaces // 2\n",
    "    print(\" \" * left_spaces + line)\n",
    "\n"
   ]
  },
  {
   "cell_type": "markdown",
   "metadata": {},
   "source": [
    "5. Write a function to calculate the miles per gallon.\n",
    "Get a miles driven and gallons used from a user and call your function to calculate the miles per gallon. "
   ]
  },
  {
   "cell_type": "code",
   "execution_count": null,
   "metadata": {},
   "outputs": [],
   "source": [
    "miles = int(input(\"How many miles driven? \"))\n",
    "\n",
    "gallons = int(input(\"How many gallons used? \"))\n",
    "\n",
    "\n",
    "def calculate_mileage(x,y):\n",
    "    mileage = x / y\n",
    "    return mileage\n",
    "x = miles\n",
    "y = gallons\n",
    "result = calculate_mileage(x,y)\n",
    "print(f\"The gas mileage is {result} mpg\")"
   ]
  },
  {
   "cell_type": "code",
   "execution_count": null,
   "metadata": {},
   "outputs": [],
   "source": []
  }
 ],
 "metadata": {
  "kernelspec": {
   "display_name": "Python 3 (ipykernel)",
   "language": "python",
   "name": "python3"
  },
  "language_info": {
   "codemirror_mode": {
    "name": "ipython",
    "version": 3
   },
   "file_extension": ".py",
   "mimetype": "text/x-python",
   "name": "python",
   "nbconvert_exporter": "python",
   "pygments_lexer": "ipython3",
   "version": "3.11.5"
  }
 },
 "nbformat": 4,
 "nbformat_minor": 4
}
